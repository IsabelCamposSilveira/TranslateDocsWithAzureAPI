{
  "cells": [
    {
      "cell_type": "code",
      "source": [
        "!pip install requests python-docx"
      ],
      "metadata": {
        "id": "tnoVvQvMsQhz"
      },
      "execution_count": null,
      "outputs": []
    },
    {
      "cell_type": "code",
      "source": [
        "import requests\n",
        "from docx import Document\n",
        "import os\n",
        "\n",
        "subscription_key = \"\" # Add your key here\n",
        "endpoint = \"https://api.cognitive.microsofttranslator.com\" # Add your endpoint here\n",
        "location = \"westus2\" # Add your location here\n",
        "\n",
        "language_destination = 'pt-br' # Add your language here\n",
        "\n",
        "def translator_text(text, target_language):\n",
        "  path = '/translate'\n",
        "  constructed_url = endpoint + path\n",
        "  headers = {\n",
        "   'Ocp-Apim-Subscription-Key': subscription_key,\n",
        "   'Ocp-Apim-Subscription-Region': location,\n",
        "   'Content-type': 'application/json',\n",
        "   'X-ClientTraceId': str(os.urandom(16))\n",
        "  }\n",
        "  body = [{\n",
        "   'text': text\n",
        "  }]\n",
        "  params = {\n",
        "   'api-version': '3.0',\n",
        "   'from': 'en',\n",
        "   'to': target_language\n",
        "  }\n",
        "  request = requests.post(constructed_url, params=params, headers=headers, json=body)\n",
        "  response = request.json()\n",
        "  return response[0][\"translations\"][0][\"text\"]"
      ],
      "metadata": {
        "id": "gayjhlDbs5rr"
      },
      "execution_count": 15,
      "outputs": []
    },
    {
      "cell_type": "code",
      "execution_count": null,
      "metadata": {
        "id": "zwFnJsE6vjf8",
        "collapsed": true
      },
      "outputs": [],
      "source": [
        "translator_text('I know you are somewhere out there, somewhere far away I want you back, I want you back', language_destination)"
      ]
    },
    {
      "cell_type": "code",
      "source": [
        "def translate_document(path):\n",
        "  document = Document(path)\n",
        "  full_text = []\n",
        "  for paragraph in document.paragraphs:\n",
        "    translated_text = translator_text(paragraph.text, language_destination)\n",
        "    full_text.append(translated_text)\n",
        "\n",
        "  translated_doc = Document()\n",
        "  for line in full_text:\n",
        "    translated_doc.add_paragraph(line)\n",
        "\n",
        "  path_translated = path.replace(\".docx\", f\"_{language_destination}.docx\")\n",
        "  translated_doc.save(path_translated)\n",
        "  return path_translated\n",
        "\n",
        "  input_file = '/content/translate.docx'\n",
        "  translate_document(input_file)"
      ],
      "metadata": {
        "id": "XS4m5k8N7VHP"
      },
      "execution_count": 19,
      "outputs": []
    },
    {
      "cell_type": "code",
      "source": [
        "  input_file = '/content/translate.docx' # Add your file here\n",
        "  translate_document(input_file)"
      ],
      "metadata": {
        "colab": {
          "base_uri": "https://localhost:8080/",
          "height": 35
        },
        "id": "Pg-ld-ivAfq5",
        "outputId": "bfd0f8c5-9d1e-4a26-9368-ead56d90d724"
      },
      "execution_count": 20,
      "outputs": [
        {
          "output_type": "execute_result",
          "data": {
            "text/plain": [
              "'/content/translate_pt-br.docx'"
            ],
            "application/vnd.google.colaboratory.intrinsic+json": {
              "type": "string"
            }
          },
          "metadata": {},
          "execution_count": 20
        }
      ]
    }
  ],
  "metadata": {
    "colab": {
      "name": "Olá, este é o Colaboratory",
      "provenance": []
    },
    "kernelspec": {
      "display_name": "Python 3",
      "name": "python3"
    }
  },
  "nbformat": 4,
  "nbformat_minor": 0
}