{
  "nbformat": 4,
  "nbformat_minor": 0,
  "metadata": {
    "colab": {
      "provenance": [],
      "authorship_tag": "ABX9TyPt6ncyt6y/buYaotDANgzv"
    },
    "kernelspec": {
      "name": "python3",
      "display_name": "Python 3"
    },
    "language_info": {
      "name": "python"
    }
  },
  "cells": [
    {
      "cell_type": "code",
      "execution_count": null,
      "metadata": {
        "id": "_zQ3I3k3FR3_"
      },
      "outputs": [],
      "source": [
        "!pip install requests beautifulsoup4 openai langchain-openai"
      ]
    },
    {
      "cell_type": "markdown",
      "source": [
        "Obter um texto pela URL"
      ],
      "metadata": {
        "id": "geK-VBswLTjt"
      }
    },
    {
      "cell_type": "code",
      "source": [
        "import requests\n",
        "from bs4 import BeautifulSoup\n",
        "\n",
        "def extract_text_from_url(url):\n",
        "  response = requests.get(url)\n",
        "\n",
        "  if response.status_code == 200:\n",
        "    soup = BeautifulSoup(response.text, 'html.parser')\n",
        "    for script_or_style in soup(['script', 'style']):\n",
        "      script_or_style.decompose()\n",
        "    texto = soup.get_text(separator= ' ')\n",
        "    #Limpar texto\n",
        "    linhas = (line.strip() for line in texto.splitlines())\n",
        "    parts = (phrase.strip() for line in linhas for phrase in line.split(\" \"))\n",
        "    texto_limpo = '\\n'.join(part for part in parts if part)\n",
        "    return texto_limpo\n",
        "  else:\n",
        "    print(f\"Falha na busca da URL. Codigo: {response.status_code}\")\n",
        "    return None\n",
        "\n",
        "\n",
        "  text = soup.get_text()\n",
        "  return text\n",
        "\n",
        "extract_text_from_url('https://dev.to/seek4samurai/azure-trial-hackathon-azura-yes-azura-khc')"
      ],
      "metadata": {
        "id": "JVlpdGxxFlql"
      },
      "execution_count": null,
      "outputs": []
    },
    {
      "cell_type": "markdown",
      "source": [
        "Traduzir com o OPEN AI do azure"
      ],
      "metadata": {
        "id": "aowLKvOSQf5-"
      }
    },
    {
      "cell_type": "code",
      "source": [
        "from langchain_openai.chat_models.azure import AzureChatOpenAI\n",
        "\n",
        "client = AzureChatOpenAI(\n",
        "    azure_endpoint= \"https://hackathonazureai.openai.azure.com/\", # Alterar pelo endpoint da openAI\n",
        "    api_key= \"\",  # Alterar pela KEY\n",
        "    api_version= \"2024-02-15-preview\", # Versões diferentes podem gerar erros\n",
        "    deployment_name = \"gpt-4o-mini\",\n",
        "    max_retries=0\n",
        ")\n",
        "\n",
        "def translate_article(text, lang):\n",
        "  messages = [\n",
        "      (\"system\" , \"Você atua como tradutor de textos\"),\n",
        "      (\"user\" , f\"Traduza o {text} para o idioma {lang} e responda em markdown\")\n",
        "  ]\n",
        "\n",
        "  response = client.invoke(messages)\n",
        "  print(response.content)\n",
        "  return response.content\n",
        "\n",
        "translate_article(\"Hello, how are you?\", \"portugues\")"
      ],
      "metadata": {
        "id": "5mxc1DEgLZOq"
      },
      "execution_count": null,
      "outputs": []
    },
    {
      "cell_type": "markdown",
      "source": [
        "Chamada da ação"
      ],
      "metadata": {
        "id": "2AysOuDwRnqb"
      }
    },
    {
      "cell_type": "code",
      "source": [
        "url = 'https://dev.to/rupeshtiwari/azure-storage-account-basics-1l4o' # Adicionar aqui a url do artigo que deseja alterar\n",
        "text = extract_text_from_url(url)\n",
        "article = translate_article(text, \"portugues\")\n",
        "\n",
        "print(article)"
      ],
      "metadata": {
        "id": "vvA8_d0LQkpO"
      },
      "execution_count": null,
      "outputs": []
    }
  ]
}